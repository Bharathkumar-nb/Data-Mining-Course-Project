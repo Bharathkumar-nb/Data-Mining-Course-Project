{
 "cells": [
  {
   "cell_type": "markdown",
   "metadata": {},
   "source": [
    "### Libraries"
   ]
  },
  {
   "cell_type": "code",
   "execution_count": 3,
   "metadata": {
    "collapsed": true
   },
   "outputs": [],
   "source": [
    "import pandas as pd\n",
    "import numpy as np\n",
    "import matplotlib.pyplot as plt\n",
    "import seaborn as sns\n",
    "import os\n",
    "\n",
    "color = sns.color_palette()\n",
    "\n",
    "%matplotlib inline\n"
   ]
  },
  {
   "cell_type": "markdown",
   "metadata": {},
   "source": [
    "### Files and folders"
   ]
  },
  {
   "cell_type": "code",
   "execution_count": 4,
   "metadata": {
    "collapsed": false
   },
   "outputs": [
    {
     "name": "stdout",
     "output_type": "stream",
     "text": [
      "aisles.csv\n",
      "departments.csv\n",
      "order_products__prior.csv\n",
      "order_products__train.csv\n",
      "orders.csv\n",
      "products.csv\n",
      "sample_submission.csv\n",
      "\n"
     ]
    }
   ],
   "source": [
    "from subprocess import check_output\n",
    "print(check_output([\"ls\", \"./input\"]).decode(\"utf8\"))\n",
    "#os.listdir('.\\input')"
   ]
  },
  {
   "cell_type": "code",
   "execution_count": 5,
   "metadata": {
    "collapsed": true
   },
   "outputs": [],
   "source": [
    "aisles_df = pd.read_csv('./input/aisles.csv')\n",
    "departments_df = pd.read_csv('./input/departments.csv')\n",
    "order_products__prior_df = pd.read_csv('./input/order_products__prior.csv')\n",
    "order_products__train_df = pd.read_csv('./input/order_products__train.csv')\n",
    "orders_df = pd.read_csv('./input/orders.csv')\n",
    "products_df = pd.read_csv('./input/products.csv')\n",
    "sample_submission_df = pd.read_csv('./input/sample_submission.csv')"
   ]
  },
  {
   "cell_type": "markdown",
   "metadata": {},
   "source": [
    "### Aisles"
   ]
  },
  {
   "cell_type": "code",
<<<<<<< HEAD
   "execution_count": 4,
   "metadata": {
    "scrolled": true
=======
   "execution_count": 6,
   "metadata": {
    "collapsed": false
>>>>>>> 369478f87855bdb99bb4d050cbf46320076affa2
   },
   "outputs": [
    {
     "data": {
      "text/html": [
       "<div>\n",
       "<table border=\"1\" class=\"dataframe\">\n",
       "  <thead>\n",
       "    <tr style=\"text-align: right;\">\n",
       "      <th></th>\n",
       "      <th>aisle_id</th>\n",
       "      <th>aisle</th>\n",
       "    </tr>\n",
       "  </thead>\n",
       "  <tbody>\n",
       "    <tr>\n",
       "      <th>0</th>\n",
       "      <td>1</td>\n",
       "      <td>prepared soups salads</td>\n",
       "    </tr>\n",
       "    <tr>\n",
       "      <th>1</th>\n",
       "      <td>2</td>\n",
       "      <td>specialty cheeses</td>\n",
       "    </tr>\n",
       "    <tr>\n",
       "      <th>2</th>\n",
       "      <td>3</td>\n",
       "      <td>energy granola bars</td>\n",
       "    </tr>\n",
       "    <tr>\n",
       "      <th>3</th>\n",
       "      <td>4</td>\n",
       "      <td>instant foods</td>\n",
       "    </tr>\n",
       "    <tr>\n",
       "      <th>4</th>\n",
       "      <td>5</td>\n",
       "      <td>marinades meat preparation</td>\n",
       "    </tr>\n",
       "  </tbody>\n",
       "</table>\n",
       "</div>"
      ],
      "text/plain": [
       "   aisle_id                       aisle\n",
       "0         1       prepared soups salads\n",
       "1         2           specialty cheeses\n",
       "2         3         energy granola bars\n",
       "3         4               instant foods\n",
       "4         5  marinades meat preparation"
      ]
     },
     "execution_count": 6,
     "metadata": {},
     "output_type": "execute_result"
    }
   ],
   "source": [
    "aisles_df.head()"
   ]
  },
  {
   "cell_type": "code",
   "execution_count": 7,
   "metadata": {
    "collapsed": false
   },
   "outputs": [
    {
     "data": {
      "text/plain": [
       "(134, 2)"
      ]
     },
     "execution_count": 7,
     "metadata": {},
     "output_type": "execute_result"
    }
   ],
   "source": [
    "aisles_df.shape"
   ]
  },
  {
   "cell_type": "markdown",
   "metadata": {},
   "source": [
    "### Departments"
   ]
  },
  {
   "cell_type": "code",
   "execution_count": 8,
   "metadata": {
    "collapsed": false
   },
   "outputs": [
    {
     "data": {
      "text/html": [
       "<div>\n",
       "<table border=\"1\" class=\"dataframe\">\n",
       "  <thead>\n",
       "    <tr style=\"text-align: right;\">\n",
       "      <th></th>\n",
       "      <th>department_id</th>\n",
       "      <th>department</th>\n",
       "    </tr>\n",
       "  </thead>\n",
       "  <tbody>\n",
       "    <tr>\n",
       "      <th>0</th>\n",
       "      <td>1</td>\n",
       "      <td>frozen</td>\n",
       "    </tr>\n",
       "    <tr>\n",
       "      <th>1</th>\n",
       "      <td>2</td>\n",
       "      <td>other</td>\n",
       "    </tr>\n",
       "    <tr>\n",
       "      <th>2</th>\n",
       "      <td>3</td>\n",
       "      <td>bakery</td>\n",
       "    </tr>\n",
       "    <tr>\n",
       "      <th>3</th>\n",
       "      <td>4</td>\n",
       "      <td>produce</td>\n",
       "    </tr>\n",
       "    <tr>\n",
       "      <th>4</th>\n",
       "      <td>5</td>\n",
       "      <td>alcohol</td>\n",
       "    </tr>\n",
       "  </tbody>\n",
       "</table>\n",
       "</div>"
      ],
      "text/plain": [
       "   department_id department\n",
       "0              1     frozen\n",
       "1              2      other\n",
       "2              3     bakery\n",
       "3              4    produce\n",
       "4              5    alcohol"
      ]
     },
     "execution_count": 8,
     "metadata": {},
     "output_type": "execute_result"
    }
   ],
   "source": [
    "departments_df.head()"
   ]
  },
  {
   "cell_type": "code",
   "execution_count": 9,
   "metadata": {
    "collapsed": false
   },
   "outputs": [
    {
     "data": {
      "text/plain": [
       "(21, 2)"
      ]
     },
     "execution_count": 9,
     "metadata": {},
     "output_type": "execute_result"
    }
   ],
   "source": [
    "departments_df.shape"
   ]
  },
  {
   "cell_type": "markdown",
   "metadata": {},
   "source": [
    "### Orders - Prior"
   ]
  },
  {
   "cell_type": "code",
<<<<<<< HEAD
   "execution_count": 8,
   "metadata": {},
=======
   "execution_count": 10,
   "metadata": {
    "collapsed": false
   },
>>>>>>> 369478f87855bdb99bb4d050cbf46320076affa2
   "outputs": [
    {
     "data": {
      "text/html": [
       "<div>\n",
       "<table border=\"1\" class=\"dataframe\">\n",
       "  <thead>\n",
       "    <tr style=\"text-align: right;\">\n",
       "      <th></th>\n",
       "      <th>order_id</th>\n",
       "      <th>product_id</th>\n",
       "      <th>add_to_cart_order</th>\n",
       "      <th>reordered</th>\n",
       "    </tr>\n",
       "  </thead>\n",
       "  <tbody>\n",
       "    <tr>\n",
       "      <th>0</th>\n",
       "      <td>2</td>\n",
       "      <td>33120</td>\n",
       "      <td>1</td>\n",
       "      <td>1</td>\n",
       "    </tr>\n",
       "    <tr>\n",
       "      <th>1</th>\n",
       "      <td>2</td>\n",
       "      <td>28985</td>\n",
       "      <td>2</td>\n",
       "      <td>1</td>\n",
       "    </tr>\n",
       "    <tr>\n",
       "      <th>2</th>\n",
       "      <td>2</td>\n",
       "      <td>9327</td>\n",
       "      <td>3</td>\n",
       "      <td>0</td>\n",
       "    </tr>\n",
       "    <tr>\n",
       "      <th>3</th>\n",
       "      <td>2</td>\n",
       "      <td>45918</td>\n",
       "      <td>4</td>\n",
       "      <td>1</td>\n",
       "    </tr>\n",
       "    <tr>\n",
       "      <th>4</th>\n",
       "      <td>2</td>\n",
       "      <td>30035</td>\n",
       "      <td>5</td>\n",
       "      <td>0</td>\n",
       "    </tr>\n",
       "  </tbody>\n",
       "</table>\n",
       "</div>"
      ],
      "text/plain": [
       "   order_id  product_id  add_to_cart_order  reordered\n",
       "0         2       33120                  1          1\n",
       "1         2       28985                  2          1\n",
       "2         2        9327                  3          0\n",
       "3         2       45918                  4          1\n",
       "4         2       30035                  5          0"
      ]
     },
<<<<<<< HEAD
     "execution_count": 8,
=======
     "execution_count": 10,
>>>>>>> 369478f87855bdb99bb4d050cbf46320076affa2
     "metadata": {},
     "output_type": "execute_result"
    }
   ],
   "source": [
    "order_products__prior_df.head()"
   ]
  },
  {
   "cell_type": "code",
<<<<<<< HEAD
   "execution_count": 9,
   "metadata": {},
=======
   "execution_count": 11,
   "metadata": {
    "collapsed": false
   },
>>>>>>> 369478f87855bdb99bb4d050cbf46320076affa2
   "outputs": [
    {
     "data": {
      "text/plain": [
       "(32434489, 4)"
      ]
     },
<<<<<<< HEAD
     "execution_count": 9,
=======
     "execution_count": 11,
>>>>>>> 369478f87855bdb99bb4d050cbf46320076affa2
     "metadata": {},
     "output_type": "execute_result"
    }
   ],
   "source": [
    "order_products__prior_df.shape"
   ]
  },
  {
   "cell_type": "markdown",
   "metadata": {},
   "source": [
    "### Orders - Train"
   ]
  },
  {
   "cell_type": "code",
<<<<<<< HEAD
   "execution_count": 10,
   "metadata": {},
=======
   "execution_count": 12,
   "metadata": {
    "collapsed": false
   },
>>>>>>> 369478f87855bdb99bb4d050cbf46320076affa2
   "outputs": [
    {
     "data": {
      "text/html": [
       "<div>\n",
       "<table border=\"1\" class=\"dataframe\">\n",
       "  <thead>\n",
       "    <tr style=\"text-align: right;\">\n",
       "      <th></th>\n",
       "      <th>order_id</th>\n",
       "      <th>product_id</th>\n",
       "      <th>add_to_cart_order</th>\n",
       "      <th>reordered</th>\n",
       "    </tr>\n",
       "  </thead>\n",
       "  <tbody>\n",
       "    <tr>\n",
       "      <th>0</th>\n",
       "      <td>1</td>\n",
       "      <td>49302</td>\n",
       "      <td>1</td>\n",
       "      <td>1</td>\n",
       "    </tr>\n",
       "    <tr>\n",
       "      <th>1</th>\n",
       "      <td>1</td>\n",
       "      <td>11109</td>\n",
       "      <td>2</td>\n",
       "      <td>1</td>\n",
       "    </tr>\n",
       "    <tr>\n",
       "      <th>2</th>\n",
       "      <td>1</td>\n",
       "      <td>10246</td>\n",
       "      <td>3</td>\n",
       "      <td>0</td>\n",
       "    </tr>\n",
       "    <tr>\n",
       "      <th>3</th>\n",
       "      <td>1</td>\n",
       "      <td>49683</td>\n",
       "      <td>4</td>\n",
       "      <td>0</td>\n",
       "    </tr>\n",
       "    <tr>\n",
       "      <th>4</th>\n",
       "      <td>1</td>\n",
       "      <td>43633</td>\n",
       "      <td>5</td>\n",
       "      <td>1</td>\n",
       "    </tr>\n",
       "  </tbody>\n",
       "</table>\n",
       "</div>"
      ],
      "text/plain": [
       "   order_id  product_id  add_to_cart_order  reordered\n",
       "0         1       49302                  1          1\n",
       "1         1       11109                  2          1\n",
       "2         1       10246                  3          0\n",
       "3         1       49683                  4          0\n",
       "4         1       43633                  5          1"
      ]
     },
<<<<<<< HEAD
     "execution_count": 10,
=======
     "execution_count": 12,
>>>>>>> 369478f87855bdb99bb4d050cbf46320076affa2
     "metadata": {},
     "output_type": "execute_result"
    }
   ],
   "source": [
    "order_products__train_df.head()"
   ]
  },
  {
   "cell_type": "code",
<<<<<<< HEAD
   "execution_count": 11,
   "metadata": {},
=======
   "execution_count": 13,
   "metadata": {
    "collapsed": false
   },
>>>>>>> 369478f87855bdb99bb4d050cbf46320076affa2
   "outputs": [
    {
     "data": {
      "text/plain": [
       "(1384617, 4)"
      ]
     },
<<<<<<< HEAD
     "execution_count": 11,
=======
     "execution_count": 13,
>>>>>>> 369478f87855bdb99bb4d050cbf46320076affa2
     "metadata": {},
     "output_type": "execute_result"
    }
   ],
   "source": [
    "order_products__train_df.shape"
   ]
  },
  {
   "cell_type": "markdown",
   "metadata": {},
   "source": [
    "### Orders"
   ]
  },
  {
   "cell_type": "code",
<<<<<<< HEAD
   "execution_count": 12,
   "metadata": {},
=======
   "execution_count": 14,
   "metadata": {
    "collapsed": false
   },
>>>>>>> 369478f87855bdb99bb4d050cbf46320076affa2
   "outputs": [
    {
     "data": {
      "text/html": [
       "<div>\n",
       "<table border=\"1\" class=\"dataframe\">\n",
       "  <thead>\n",
       "    <tr style=\"text-align: right;\">\n",
       "      <th></th>\n",
       "      <th>order_id</th>\n",
       "      <th>user_id</th>\n",
       "      <th>eval_set</th>\n",
       "      <th>order_number</th>\n",
       "      <th>order_dow</th>\n",
       "      <th>order_hour_of_day</th>\n",
       "      <th>days_since_prior_order</th>\n",
       "    </tr>\n",
       "  </thead>\n",
       "  <tbody>\n",
       "    <tr>\n",
       "      <th>0</th>\n",
       "      <td>2539329</td>\n",
       "      <td>1</td>\n",
       "      <td>prior</td>\n",
       "      <td>1</td>\n",
       "      <td>2</td>\n",
       "      <td>8</td>\n",
       "      <td>NaN</td>\n",
       "    </tr>\n",
       "    <tr>\n",
       "      <th>1</th>\n",
       "      <td>2398795</td>\n",
       "      <td>1</td>\n",
       "      <td>prior</td>\n",
       "      <td>2</td>\n",
       "      <td>3</td>\n",
       "      <td>7</td>\n",
       "      <td>15.0</td>\n",
       "    </tr>\n",
       "    <tr>\n",
       "      <th>2</th>\n",
       "      <td>473747</td>\n",
       "      <td>1</td>\n",
       "      <td>prior</td>\n",
       "      <td>3</td>\n",
       "      <td>3</td>\n",
       "      <td>12</td>\n",
       "      <td>21.0</td>\n",
       "    </tr>\n",
       "    <tr>\n",
       "      <th>3</th>\n",
       "      <td>2254736</td>\n",
       "      <td>1</td>\n",
       "      <td>prior</td>\n",
       "      <td>4</td>\n",
       "      <td>4</td>\n",
       "      <td>7</td>\n",
       "      <td>29.0</td>\n",
       "    </tr>\n",
       "    <tr>\n",
       "      <th>4</th>\n",
       "      <td>431534</td>\n",
       "      <td>1</td>\n",
       "      <td>prior</td>\n",
       "      <td>5</td>\n",
       "      <td>4</td>\n",
       "      <td>15</td>\n",
       "      <td>28.0</td>\n",
       "    </tr>\n",
       "  </tbody>\n",
       "</table>\n",
       "</div>"
      ],
      "text/plain": [
       "   order_id  user_id eval_set  order_number  order_dow  order_hour_of_day  \\\n",
       "0   2539329        1    prior             1          2                  8   \n",
       "1   2398795        1    prior             2          3                  7   \n",
       "2    473747        1    prior             3          3                 12   \n",
       "3   2254736        1    prior             4          4                  7   \n",
       "4    431534        1    prior             5          4                 15   \n",
       "\n",
       "   days_since_prior_order  \n",
       "0                     NaN  \n",
       "1                    15.0  \n",
       "2                    21.0  \n",
       "3                    29.0  \n",
       "4                    28.0  "
      ]
     },
<<<<<<< HEAD
     "execution_count": 12,
=======
     "execution_count": 14,
>>>>>>> 369478f87855bdb99bb4d050cbf46320076affa2
     "metadata": {},
     "output_type": "execute_result"
    }
   ],
   "source": [
    "orders_df.head()"
   ]
  },
  {
   "cell_type": "code",
<<<<<<< HEAD
   "execution_count": 13,
   "metadata": {},
=======
   "execution_count": 17,
   "metadata": {
    "collapsed": false
   },
   "outputs": [],
   "source": [
    "orders_df.shape\n",
    "eval_set_distribution = orders_df.eval_set.value_counts()"
   ]
  },
  {
   "cell_type": "code",
   "execution_count": 18,
   "metadata": {
    "collapsed": false
   },
   "outputs": [
    {
     "data": {
      "image/png": "iVBORw0KGgoAAAANSUhEUgAAAwIAAAHfCAYAAADjg29gAAAABHNCSVQICAgIfAhkiAAAAAlwSFlz\nAAALEgAACxIB0t1+/AAAIABJREFUeJzt3X+YbmV93/vPbLbyI9kQEkcxRmIg7bc0kUZJgEZQkmBQ\nsCRNezXKMVFSUSgpkFpMIighwWMiaguKkPijYhFrY2JKyQHJSY6KhMipkhNozNdI0tDWJA4I7J3y\nS2D6x7No52w3s/eGPXuYuV+v6+JinvXcz/3ca7wG1/tZa83MLS4uBgAAGMuG1V4AAACw+wkBAAAY\nkBAAAIABCQEAABiQEAAAgAEJAQAAGNDG1V7AqBYWtvi9rQAArKj5+U1zj/WcMwIAADAgIQAAAAMS\nAgAAMCAhAAAAAxICAAAwICEAAAADEgIAADAgIQAAAAMSAgAAMCAhAAAAAxICAAAwICEAAAADEgIA\nADAgIQAAAAMSAgAAMCAhAAAAAxICAAAwICEAAAADEgIAADAgIQAAAAPauNoLYNc688KrVnsJsEtc\ndPaJq70EAFjXnBEAAIABCQEAABiQEAAAgAEJAQAAGJAQAACAAQkBAAAYkBAAAIABCQEAABiQEAAA\ngAEJAQAAGJAQAACAAQkBAAAYkBAAAIABCQEAABiQEAAAgAEJAQAAGJAQAACAAQkBAAAYkBAAAIAB\nCQEAABiQEAAAgAEJAQAAGJAQAACAAW1c7QU8UVW1R5L3Jqkki0lOTXJ/kg9Oj29Ncnp3P1JVpyR5\nXZKHklzQ3VdX1d5Jrkjy9CRbkryquxeq6sgkF01jr+vu86f3Oy/JCdP2s7r7pqp6WpIrk+yd5MtJ\nTu7ue3fLNwAAAB6H9XBG4B8kSXe/IMm5Sd6S5J1Jzu3uo5PMJfmRqjogyRlJXpDkuCRvrao9k5yW\n5JZp7IemOZLksiQnJTkqyRFV9byqen6SFyU5IsnLk1wyjX1zkiunOW7OLDYAAOBJa82HQHf/VpLX\nTg+/PcndSQ5L8qlp2zVJjk1yeJIbuvuB7r4nyZeSHJrZgf61S8dW1b5J9uzu27p7McknpjmOyuzs\nwGJ3355kY1XNb2uOFdthAADYBdb8pUFJ0t0PVdXlSf5hkn+c5MXTAXwyu9xnvyT7Jrlnycu2tX3p\nts1bjT0os0uO7tzBOZa1//77ZOPGPXZwD2E88/ObVnsJALCurYsQSJLuflVV/WySz2Z2rf6jNmV2\nlmDz9PVy27c39sHtzHHfkm3LuusutxDAchYWtqz2EgBgzVvug7U1f2lQVf1EVf389PDeJI8k+U9V\ndcy07aVJrk9yU5Kjq2qvqtovySGZ3Uh8Q5Ljl47t7s1JHqyqg6tqLrN7Cq6fxh5XVRuq6sAkG7r7\njm3NsXJ7DAAAT9x6OCPwm0n+TVV9OslTkpyV5AtJ3ltVT52+/lh3P1xVF2d2kL4hyTndfX9VXZrk\n8qr6TGaf+J80zXtqkg8n2SOz+wI+myRVdX2SG6c5Tp/GXjDNcUqSO5bMAQAAT0pzi4uL2x/FLrew\nsGVFvvFnXnjVSkwLu91FZ5+42ksAgDVvfn7T3GM9t+YvDQIAAHaeEAAAgAEJAQAAGJAQAACAAQkB\nAAAYkBAAAIABCQEAABiQEAAAgAEJAQAAGJAQAACAAQkBAAAYkBAAAIABCQEAABiQEAAAgAEJAQAA\nGJAQAACAAQkBAAAYkBAAAIABCQEAABiQEAAAgAEJAQAAGJAQAACAAQkBAAAYkBAAAIABCQEAABiQ\nEAAAgAEJAQAAGJAQAACAAQkBAAAYkBAAAIABCQEAABiQEAAAgAEJAQAAGJAQAACAAQkBAAAYkBAA\nAIABCQEAABiQEAAAgAEJAQAAGJAQAACAAQkBAAAYkBAAAIABCQEAABiQEAAAgAEJAQAAGJAQAACA\nAQkBAAAYkBAAAIABCQEAABiQEAAAgAEJAQAAGJAQAACAAQkBAAAYkBAAAIABCQEAABiQEAAAgAEJ\nAQAAGNDG1V7AE1VVT0nygSTPSbJnkguS/NckVyf502nYpd390ao6JcnrkjyU5ILuvrqq9k5yRZKn\nJ9mS5FXdvVBVRya5aBp7XXefP73feUlOmLaf1d03VdXTklyZZO8kX05ycnffu/J7DwAAj896OCPw\nyiR3dvfRSV6S5N1JDkvyzu4+Zvrno1V1QJIzkrwgyXFJ3lpVeyY5Lckt0+s/lOTcad7LkpyU5Kgk\nR1TV86rq+UlelOSIJC9Pcsk09s1JrpzmuDmz2AAAgCet9RACv57kTdPXc5l9Un9YkhOq6tNV9f6q\n2pTk8CQ3dPcD3X1Pki8lOTSzA/1rp9dfk+TYqto3yZ7dfVt3Lyb5RJJjp7HXdfdid9+eZGNVzW9r\njhXeZwAAeELW/KVB3f03STId7H8ss0/090zyvu7+XFWdk+S8JH+Y5J4lL92SZL8k+y7ZvnTb5q3G\nHpTk/iR37uAcy9p//32yceMeO7yfMJr5+U2rvQQAWNfWfAgkSVU9O8nHk7ynu6+sqm/q7runpz+e\n5F1JPp1k6ZHFpiR3Z3bAv2mZbUu3P7idOe5bsm1Zd93lFgJYzsLCltVeAgCsect9sLbmLw2qqmck\nuS7Jz3b3B6bNn6iqw6evfyjJ55LclOToqtqrqvZLckiSW5PckOT4aexLk1zf3ZuTPFhVB1fVXGb3\nFFw/jT2uqjZU1YFJNnT3HduaYwV3GQAAnrD1cEbgjUn2T/Kmqnr0XoF/keRfVdXXkvxVktd29+aq\nujizg/QNSc7p7vur6tIkl1fVZzL7xP+kaY5Tk3w4yR6Z3Rfw2SSpquuT3DjNcfo09oJpjlOS3LFk\nDgAAeFKaW1xcXO01DGlhYcuKfOPPvPCqlZgWdruLzj5xtZcAAGve/Pymucd6bs1fGgQAAOw8IQAA\nAAMSAgAAMCAhAAAAAxICAAAwICEAAAADEgIAADAgIQAAAAMSAgAAMCAhAAAAAxICAAAwICEAAAAD\nEgIAADAgIQAAAAMSAgAAMCAhAAAAAxICAAAwICEAAAADEgIAADAgIQAAAAMSAgAAMCAhAAAAAxIC\nAAAwICEAAAADEgIAADAgIQAAAAMSAgAAMCAhAAAAAxICAAAwICEAAAADEgIAADAgIQAAAAMSAgAA\nMCAhAAAAAxICAAAwICEAAAADEgIAADAgIQAAAAMSAgAAMCAhAAAAAxICAAAwICEAAAADEgIAADAg\nIQAAAAMSAgAAMCAhAAAAAxICAAAwICEAAAADEgIAADAgIQAAAAMSAgAAMCAhAAAAAxICAAAwICEA\nAAADEgIAADAgIQAAAAPauNoLeKKq6ilJPpDkOUn2THJBkj9O8sEki0luTXJ6dz9SVackeV2Sh5Jc\n0N1XV9XeSa5I8vQkW5K8qrsXqurIJBdNY6/r7vOn9zsvyQnT9rO6+6aqelqSK5PsneTLSU7u7nt3\nx/4DAMDjsR7OCLwyyZ3dfXSSlyR5d5J3Jjl32jaX5Eeq6oAkZyR5QZLjkry1qvZMclqSW6axH0py\n7jTvZUlOSnJUkiOq6nlV9fwkL0pyRJKXJ7lkGvvmJFdOc9ycWWwAAMCT1noIgV9P8qbp67nMPqk/\nLMmnpm3XJDk2yeFJbujuB7r7niRfSnJoZgf61y4dW1X7Jtmzu2/r7sUkn5jmOCqzswOL3X17ko1V\nNb+tOVZsbwEAYBdY85cGdfffJElVbUryscw+0X/7dACfzC732S/JvknuWfLSbW1fum3zVmMPSnJ/\nkjt3cI5l7b//Ptm4cY8d2kcY0fz8ptVeAgCsa2s+BJKkqp6d5ONJ3tPdV1bV25Y8vSnJ3Zkd2G/a\nzvbtjX1wO3Pct2Tbsu66yy0EsJyFhS2rvQQAWPOW+2BtzV8aVFXPSHJdkp/t7g9Mm2+uqmOmr1+a\n5PokNyU5uqr2qqr9khyS2Y3ENyQ5funY7t6c5MGqOriq5jK7p+D6aexxVbWhqg5MsqG779jWHCu3\nxwAA8MSthzMCb0yyf5I3VdWj9wqcmeTiqnpqki8k+Vh3P1xVF2d2kL4hyTndfX9VXZrk8qr6TGaf\n+J80zXFqkg8n2SOz+wI+myRVdX2SG6c5Tp/GXjDNcUqSO5bMAQAAT0pzi4uL2x/FLrewsGVFvvFn\nXnjVSkwLu91FZ5+42ksAgDVvfn7T3GM9t+YvDQIAAHaeEAAAgAEJAQAAGJAQAACAAQkBAAAYkBAA\nAIABCQEAABiQEAAAgAEJAQAAGJAQAACAAQkBAAAYkBAAAIABCQEAABiQEAAAgAEJAQAAGJAQAACA\nAQkBAAAYkBAAAIABCQEAABiQEAAAgAEJAQAAGJAQAACAAQkBAAAYkBAAAIABCQEAABiQEAAAgAFt\nXO7JqnpOkj9P8sPd/TtLtv+XJMd09395Im9eVackOTfJv+/us5dsPzDJJUm+PbNY+eMkP93dX3ki\n77edtSx299xKzQ8AAE8mO3JG4GtJ3ltVm1bg/V+R5JSlETD51SRXdveh3f3dSW5OctkKvD8AAAxp\n2TMCky8n+Z0k70jy2q2frKo3JnllkoeTXJfkDd398FZjTk7y+iSLST6X5KeT/Iskhyd5T1Wd0d3/\n15KXHJBknyWP353k+6a5npXk/Um+Kckzk3yku3+uql6d5IQkz0rybUn+dZIDk/xgkjuTvHSa9z8m\nuS3J30ryF0le2d1fXbLWb8zsbMR3J9kjya9090eq6tAkvzZ9z+5PcnJ3/+kOfP8AAOBJZ0fvEXh9\nkuOq6sVLN1bV8UlOTHJYkucl+c4kp2415rlJzknyou5+bpL/keS87v7FJP8pyWu2ioAk+fkkb6uq\n/1ZVl2d2gP/J6blXZHbwf2SSQ5P8s6p62vTc4UlekuTozMLlmu4+dHruuOnf353kX3f3dyX5QpJf\n2Oq9z03yue4+LMkLk5xTVQcl+Zkk7+ju703yriRHLv8tAwCAJ68dCoHu3pzklHz9JUI/mNlB+X3d\n/VCSDyT5oa1e/qIk/7G775we/9o2xmz9ftdm9sn+a5IsJHlbkt+cnnt7ktur6l8muSjJU5N8w/TS\nG7p7c3f/xfT4d6d//0WS/aevv9jdn5y+vnzah6WOTXJqVf1hkk9Pc39Xkt9O8u6qen+SB5Ncudw+\nAADAk9mOXBqUJOnu66rq0UuEHrV1SMxtY84dGfO/VNU3J3lTd/9MkmuTXFtVv5TkL6tqPsnPJTko\nswPx38rswP3Rm3wf3GrND23jLZZu27DV42R2OdAru/vz03qekeSr3f21qroxycuSnJXk+MziCAAA\n1pyd/fWhr8/sEptvnR7/XpJXVNXeVbUxyclJ/p+tXvPJJCdOB/jJ7OB56zFL3TON/8kl2w5O8tdJ\nvprkxUku7O5fT/LszM4c7LET+1BV9T3T1ycnuWar538vyWnTwGcm+aMkB1bVR5Mc3t2/muRNSZ6/\nE+8JAABPKjsVAksuEXrK9PjqJFdndq3/f87sEpx3bfWaP0ry1iSfqqo/yewm33OXeY+HM/u0/cer\n6i+q6gtJLkzyD6bn3prk31bV55KcPb33d+zEbnw1yflV9Z+TPD3JBVs9f36Svavq1syi4A3dfVuS\n/zPJG6vq80nentnNzgAAsCbNLS4urvYadpvp7yJ8srufs8pLycLClhX5xp954VUrMS3sdhedfeJq\nLwEA1rz5+U2P+Xey/GVhAAAY0A7fLLweTH8J+TmrvAwAAFh1zggAAMCAhAAAAAxICAAAwICEAAAA\nDEgIAADAgIQAAAAMSAgAAMCAhAAAAAxICAAAwICEAAAADEgIAADAgIQAAAAMSAgAAMCAhAAAAAxI\nCAAAwICEAAAADEgIAADAgIQAAAAMSAgAAMCANq72AnaFqjoiya909zFV9bwkVyf50+npS7v7o1V1\nSpLXJXkoyQXdfXVV7Z3kiiRPT7Ilyau6e6Gqjkxy0TT2uu4+f3qf85KcMG0/q7tvqqqnJbkyyd5J\nvpzk5O6+dzftOgAAPC5r/oxAVb0hyfuS7DVtOizJO7v7mOmfj1bVAUnOSPKCJMcleWtV7ZnktCS3\ndPfRST6U5NxpjsuSnJTkqCRHVNXzqur5SV6U5IgkL09yyTT2zUmunOa4ObPYAACAJ7U1HwJJbkvy\nY0seH5bkhKr6dFW9v6o2JTk8yQ3d/UB335PkS0kOzexA/9rpddckObaq9k2yZ3ff1t2LST6R5Nhp\n7HXdvdjdtyfZWFXz25pjRfcWAAB2gTUfAt39G0m+tmTTTUnO7u4XJvmzJOcl2TfJPUvGbEmy31bb\nl27bvJ2x25sDAACe1NbFPQJb+Xh33/3o10neleTTSTYtGbMpyd2ZHfBvWmbb0u0PbmeO+5Zs2679\n998nGzfuscM7BaOZn9+0/UEAwOO2HkPgE1X1z7v7piQ/lORzmZ0leEtV7ZVkzySHJLk1yQ1Jjp+e\nf2mS67t7c1U9WFUHZ3ZG4bgk52d2g/DbqurtSb4tyYbuvqOqHp3jg4/OsSOLvOsu9xPDchYWtqz2\nEgBgzVvug7X1GAKnJXlXVX0tyV8lee10cH9xZgfpG5Kc0933V9WlSS6vqs9k9on/SdMcpyb5cJI9\nMrsv4LNJUlXXJ7lxmuP0aewF0xynJLljyRwAAPCkNbe4uLjaaxjSwsKWFfnGn3nhVSsxLex2F519\n4movAQDWvPn5TXOP9dyav1kYAADYeUIAAAAGJAQAAGBAQgAAAAYkBAAAYEBCAAAABiQEAABgQEIA\nAAAGJAQAAGBAQgAAAAYkBAAAYEBCAAAABiQEAABgQEIAAAAGJAQAAGBAQgAAAAYkBAAAYEBCAAAA\nBiQEAABgQEIAAAAGJAQAAGBAQgAAAAYkBAAAYEBCAAAABiQEAABgQEIAAAAGJAQAAGBAQgAAAAYk\nBAAAYEBCAAAABiQEAABgQEIAAAAGJAQAAGBAQgAAAAYkBAAAYEBCAAAABiQEAABgQEIAAAAGJAQA\nAGBAQgAAAAYkBAAAYEBCAAAABiQEAABgQEIAAAAGJAQAAGBAQgAAAAYkBAAAYEBCAAAABiQEAABg\nQEIAAAAGJAQAAGBAQgAAAAYkBAAAYEBCAAAABiQEAABgQEIAAAAGJAQAAGBAG1d7AbtCVR2R5Fe6\n+5iq+s4kH0yymOTWJKd39yNVdUqS1yV5KMkF3X11Ve2d5IokT0+yJcmrunuhqo5MctE09rruPn96\nn/OSnDBtP6u7b6qqpyW5MsneSb6c5OTuvne37TwAADwOa/6MQFW9Icn7kuw1bXpnknO7++gkc0l+\npKoOSHJGkhckOS7JW6tqzySnJbllGvuhJOdOc1yW5KQkRyU5oqqeV1XPT/KiJEckeXmSS6axb05y\n5TTHzZnFBgAAPKmt+RBIcluSH1vy+LAkn5q+vibJsUkOT3JDdz/Q3fck+VKSQzM70L926diq2jfJ\nnt19W3cvJvnENMdRmZ0dWOzu25NsrKr5bc2xQvsJAAC7zJq/NKi7f6OqnrNk09x0AJ/MLvfZL8m+\nSe5ZMmZb25du27zV2IOS3J/kzh2cY7v233+fbNy4x44MhSHNz29a7SUAwLq25kNgGx5Z8vWmJHdn\ndmC/aTvbtzf2we3Mcd+Sbdt1111uI4DlLCxsWe0lAMCat9wHa+vh0qCt3VxVx0xfvzTJ9UluSnJ0\nVe1VVfslOSSzG4lvSHL80rHdvTnJg1V1cFXNZXZPwfXT2OOqakNVHZhkQ3ffsa05VnwPAQDgCVqP\nZwRen+S9VfXUJF9I8rHufriqLs7sIH1DknO6+/6qujTJ5VX1mcw+8T9pmuPUJB9Oskdm9wV8Nkmq\n6vokN05znD6NvWCa45QkdyyZAwAAnrTmFhcXtz+KXW5hYcuKfOPPvPCqlZgWdruLzj5xtZcAAGve\n/Pymucd6bj1eGgQAAGyHEAAAgAEJAQAAGJAQAACAAQkBAAAYkBAAAIABCQEAABiQEAAAgAEJAQAA\nGJAQAACAAQkBAAAYkBAAAIABCQEAABiQEAAAgAEJAQAAGJAQAACAAQkBAAAYkBAAAIABCQEAABiQ\nEAAAgAEJAQAAGJAQAACAAQkBAAAYkBAAAIABCQEAABiQEAAAgAEJAQAAGJAQAACAAQkBAAAYkBAA\nAIABCQEAABiQEAAAgAEJAQAAGJAQAACAAQkBAAAYkBAAAIABCQEAABiQEAAAgAEJAQAAGJAQAACA\nAQkBAAAYkBAAAIABCQEAABiQEAAAgAEJAQAAGJAQAACAAQkBAAAYkBAAAIABCQEAABiQEAAAgAEJ\nAQAAGJAQAACAAQkBAAAYkBAAAIABCQEAABiQEAAAgAFtXO0FrJSq+nySzdPDP0/yliQfTLKY5NYk\np3f3I1V1SpLXJXkoyQXdfXVV7Z3kiiRPT7Ilyau6e6Gqjkxy0TT2uu4+f3qv85KcMG0/q7tv2k27\nCQAAj8u6DIGq2ivJXHcfs2TbVUnO7e5PVtVlSX6kqm5MckaS702yV5LPVNXvJDktyS3d/QtV9fIk\n5yY5M8llSf5Rkj9L8ttV9bwkc0lelOSIJM9O8htJvm/37CkAADw+6zIEkvy9JPtU1XWZ7eMbkxyW\n5FPT89ck+eEkDye5obsfSPJAVX0pyaFJjkrytiVj31RV+ybZs7tvS5Kq+kSSY5M8kNnZgcUkt1fV\nxqqa7+6F3bGjAADweKzXELg3yduTvC/J38rsYH5uOlhPZpf77Jdk3yT3LHndtrYv3bZ5q7EHJbk/\nyZ3bmGPZENh//32yceMeO7tfMIz5+U2rvQQAWNfWawh8McmXpgP/L1bVnZmdEXjUpiR3Z3Zgv2k7\n27c39sHH2L6su+66dyd2B8azsLBltZcAAGvech+srdffGvRTSd6RJFX1rZl9mn9dVR0zPf/SJNcn\nuSnJ0VW1V1Xtl+SQzG4kviHJ8UvHdvfmJA9W1cFVNZfkuGmOG5IcV1UbqurAJBu6+47dsZMAAPB4\nrdczAu9P8sGq+kxmvyXop5LckeS9VfXUJF9I8rHufriqLs7sgH5DknO6+/6qujTJ5dPrH0xy0jTv\nqUk+nGSPzO4L+GySVNX1SW6c5jh9d+0kAAA8XnOLi4vbH8Uut7CwZUW+8WdeeNVKTAu73UVnn7ja\nSwCANW9+ftPcYz23Xi8NAgAAliEEAABgQEIAAAAGJAQAAGBAQgAAAAYkBAAAYEBCAAAABiQEAABg\nQEIAAAAGJAQAAGBAQgAAAAYkBAAAYEBCAAAABiQEAABgQEIAAAAGJAQAAGBAQgAAAAYkBAAAYEBC\nAAAABiQEAABgQEIAAAAGJAQAAGBAQgAAAAYkBAAAYEBCAAAABiQEAABgQEIAAAAGJAQAAGBAQgAA\nAAYkBAAAYEBCAAAABiQEAABgQEIAAAAGJAQAAGBAQgAAAAYkBAAAYEBCAAAABiQEAABgQEIAAAAG\nJAQAAGBAQgAAAAYkBAAAYEBCAAAABrRxtRcAsB6cffW5q70E2CUufNkFq70EYDdxRgAAAAYkBAAA\nYEBCAAAABiQEAABgQEIAAAAGJAQAAGBAfn0oALBm/b+vP2O1lwC7xPe94+Ld/p7OCAAAwICEAAAA\nDEgIAADAgIQAAAAMSAgAAMCAhAAAAAzIrw/dBapqQ5L3JPl7SR5I8pru/tLqrgoAAB6bMwK7xo8m\n2au7/36Sn0vyjlVeDwAALEsI7BpHJbk2Sbr7D5J87+ouBwAAlje3uLi42mtY86rqfUl+o7uvmR7f\nnuSg7n5odVcGAADb5ozArrE5yaYljzeIAAAAnsyEwK5xQ5Ljk6Sqjkxyy+ouBwAAlue3Bu0aH0/y\n4qr6/SRzSU5e5fUAAMCy3CMAAAADcmkQAAAMSAgAAMCAhADshKp6dVWduNrrgPWmqvaqqtfs4Fg/\nh7CL7czP4JLXvLCqDl2pNbHy3CwMO6G7P7jaa4B16oAkr0nyvu0N9HMIK2KHfwaX+Kkk/y7JH63I\nilhxbhaGJarq1Ul+NLO/C/G0JL+Y5PwkX0zyYJI/SfJX3X1ZVb0js78qnSRXdvdFVfXBJN8y/XNC\nd9+1e/cA1qaqem+SH0/yjUn+7+nf/zTJT2b219q/Jcn/190nV9UvJPmrzH4efzazn82Dkvy77n7L\n7l89rH1LfgbfkeS5mf3MJckZ3X1LVf2bJN+ZZO8kFyX54yS/neQrSV7W3bfv/lXzRLk0CL7eNyR5\ncZIfTvLOJN+U5Je6++WPDqiqlyX5jiRHZhYDJ1XVc6enf6+7v18EwE55S2YHFr+Y5Avd/f1J/nuS\nu7r7xZnFwJFV9aytXvftSf5RZj+Lb9iN64X15tGfwX2S/G53/0CS1ya5tKo2JXlhkh9L8pIkD3f3\n55Jcm+QNImDtcmkQfL1PdfcjSf66qu5KckiS3mrMIUmu7+7FJF+rqj9I8nen57YeC+ycR3+G7kvy\n9Kr6SJK/yewswVO2GnvL9JfcH6qq+3bjGmG9em6SH6yqH58ef3N3b6mqs5L8WpJ9k1yxaqtjl3JG\nAL7eYUlSVc/I7D94X0nyyFZjvpDpsqCqekqS70/yp9NzW48Ftu+R/O//T3r0Z+ilSZ7d3a9I8sbM\nLkmY2+p1rm+FXePRn8E/SfKvuvuYJP8kyRVV9cwkh3X3P0xyQpK3VdXG/P9/blmD/I8HX++Aqvrd\nzK59/GdJHt56QHdfneTPq+rGJH+Q5GPd/fndu0xYV76S5KmZHew/6qYkB1XVp5N8LMmfJfnWVVgb\njODRn8FNSf5JVX0ys0t/bs3snpwDqur3k/xOkrdPZ+I+m+SXq+qQ1VkyT5SbhWGJ6Wbhv9PdP7fa\nawEAWEnOCAAAwICcEQAAgAE5IwAAAAMSAgAAMCAhAAAAA/IHxQBYEVX1nCRfzOyvlS713u6+ZCfn\nenWSY7r71VttPzDJJZn9heEN03v9dHd/ZZm5viPJud39T3dmDQDrjRAAYCV9ubu/ZwXn/9UkH+ru\njyRJVf18ksuS/Ngyr/n2JAev4JoA1gQhAMBuV1VnJPnb3f3T0+O3J/lyko8meX+Sb0ryzCQf2c7f\n9TggyT5LHr87yfdNc35jZmcLvjvJHkl+ZQqGizP7Q2WXdPfpu3THANYQvz4UgBWxzKVBP5Hkr5N8\nPrNP5x9bFxdRAAABuElEQVRJ8udJ/n6S/yPJQndfXlX7JfmvSQ5K8rJs+9KglyT5cJL7kvxukmuS\n/PvufqSqfjmzMxIXV9W+SX4/yYlJDkzyC919zK7eZ4C1xBkBAFbSY14aVFV/mOQHkjyY5Ivd/ZdJ\n3l5VP1BV/zKzT/KfmuQbHmvy7r62qp6V5JgkxyZ5W5KXJ/nR6fE+VfVT0/BvSPJdSbbsih0DWOuE\nAACr5YokP55ZCFyRJFX1jszOAFyZ5LcyO5if29aLq+qbk7ypu38mybVJrq2qX0ryl1U1n9nlQK/s\n7s9P45+R5KtJXrCSOwWwVvj1oQCslv+Q5IVJjkvym9O2Fye5sLt/PcmzkzwrswP6bbknyYlV9ZNL\nth2c2WVHX03ye0lOS5KqemaSP8rssqCH4oMwAPcIALAylrlH4NPdfcY05gNJ9uruk6bHr0hyQZK7\nMzugn0/y80m+Ldu+R6CSvDOzy4juzeyG4zO7+9bpvoD3JPmezGLil6d7D74lyaeS3NzdP7Gr9xtg\nrRACAAAwIJcGAQDAgIQAAAAMSAgAAMCAhAAAAAxICAAAwICEAAAADEgIAADAgIQAAAAM6H8C/F/G\ntvs3f7gAAAAASUVORK5CYII=\n",
      "text/plain": [
       "<matplotlib.figure.Figure at 0x111fa3128>"
      ]
     },
     "metadata": {},
     "output_type": "display_data"
    }
   ],
   "source": [
    "plt.figure(figsize=(12,8))\n",
    "sns.barplot(eval_set_distribution.index,eval_set_distribution.values)\n",
    "plt.ylabel('No of Samples',rotation='horizontal')\n",
    "plt.xlabel('Eval Set')\n",
    "#plt.xticks(rotation='vertical')\n",
    "plt.yticks(rotation='horizontal')\n",
    "plt.show()"
   ]
  },
  {
   "cell_type": "code",
   "execution_count": 19,
   "metadata": {
    "collapsed": false
   },
>>>>>>> 369478f87855bdb99bb4d050cbf46320076affa2
   "outputs": [
    {
     "data": {
      "text/html": [
       "<div>\n",
       "<table border=\"1\" class=\"dataframe\">\n",
       "  <thead>\n",
       "    <tr style=\"text-align: right;\">\n",
       "      <th></th>\n",
       "      <th>order_id</th>\n",
       "      <th>user_id</th>\n",
       "      <th>order_number</th>\n",
       "      <th>order_dow</th>\n",
       "      <th>order_hour_of_day</th>\n",
       "      <th>days_since_prior_order</th>\n",
       "    </tr>\n",
       "  </thead>\n",
       "  <tbody>\n",
       "    <tr>\n",
       "      <th>count</th>\n",
       "      <td>3.421083e+06</td>\n",
       "      <td>3.421083e+06</td>\n",
       "      <td>3.421083e+06</td>\n",
       "      <td>3.421083e+06</td>\n",
       "      <td>3.421083e+06</td>\n",
       "      <td>3.214874e+06</td>\n",
       "    </tr>\n",
       "    <tr>\n",
       "      <th>mean</th>\n",
       "      <td>1.710542e+06</td>\n",
       "      <td>1.029782e+05</td>\n",
       "      <td>1.715486e+01</td>\n",
       "      <td>2.776219e+00</td>\n",
       "      <td>1.345202e+01</td>\n",
       "      <td>1.111484e+01</td>\n",
       "    </tr>\n",
       "    <tr>\n",
       "      <th>std</th>\n",
       "      <td>9.875817e+05</td>\n",
       "      <td>5.953372e+04</td>\n",
       "      <td>1.773316e+01</td>\n",
       "      <td>2.046829e+00</td>\n",
       "      <td>4.226088e+00</td>\n",
       "      <td>9.206737e+00</td>\n",
       "    </tr>\n",
       "    <tr>\n",
       "      <th>min</th>\n",
       "      <td>1.000000e+00</td>\n",
       "      <td>1.000000e+00</td>\n",
       "      <td>1.000000e+00</td>\n",
       "      <td>0.000000e+00</td>\n",
       "      <td>0.000000e+00</td>\n",
       "      <td>0.000000e+00</td>\n",
       "    </tr>\n",
       "    <tr>\n",
       "      <th>25%</th>\n",
       "      <td>8.552715e+05</td>\n",
       "      <td>5.139400e+04</td>\n",
       "      <td>5.000000e+00</td>\n",
       "      <td>1.000000e+00</td>\n",
       "      <td>1.000000e+01</td>\n",
       "      <td>4.000000e+00</td>\n",
       "    </tr>\n",
       "    <tr>\n",
       "      <th>50%</th>\n",
       "      <td>1.710542e+06</td>\n",
       "      <td>1.026890e+05</td>\n",
       "      <td>1.100000e+01</td>\n",
       "      <td>3.000000e+00</td>\n",
       "      <td>1.300000e+01</td>\n",
       "      <td>7.000000e+00</td>\n",
       "    </tr>\n",
       "    <tr>\n",
       "      <th>75%</th>\n",
       "      <td>2.565812e+06</td>\n",
       "      <td>1.543850e+05</td>\n",
       "      <td>2.300000e+01</td>\n",
       "      <td>5.000000e+00</td>\n",
       "      <td>1.600000e+01</td>\n",
       "      <td>1.500000e+01</td>\n",
       "    </tr>\n",
       "    <tr>\n",
       "      <th>max</th>\n",
       "      <td>3.421083e+06</td>\n",
       "      <td>2.062090e+05</td>\n",
       "      <td>1.000000e+02</td>\n",
       "      <td>6.000000e+00</td>\n",
       "      <td>2.300000e+01</td>\n",
       "      <td>3.000000e+01</td>\n",
       "    </tr>\n",
       "  </tbody>\n",
       "</table>\n",
       "</div>"
      ],
      "text/plain": [
       "           order_id       user_id  order_number     order_dow  \\\n",
       "count  3.421083e+06  3.421083e+06  3.421083e+06  3.421083e+06   \n",
       "mean   1.710542e+06  1.029782e+05  1.715486e+01  2.776219e+00   \n",
       "std    9.875817e+05  5.953372e+04  1.773316e+01  2.046829e+00   \n",
       "min    1.000000e+00  1.000000e+00  1.000000e+00  0.000000e+00   \n",
       "25%    8.552715e+05  5.139400e+04  5.000000e+00  1.000000e+00   \n",
       "50%    1.710542e+06  1.026890e+05  1.100000e+01  3.000000e+00   \n",
       "75%    2.565812e+06  1.543850e+05  2.300000e+01  5.000000e+00   \n",
       "max    3.421083e+06  2.062090e+05  1.000000e+02  6.000000e+00   \n",
       "\n",
       "       order_hour_of_day  days_since_prior_order  \n",
       "count       3.421083e+06            3.214874e+06  \n",
       "mean        1.345202e+01            1.111484e+01  \n",
       "std         4.226088e+00            9.206737e+00  \n",
       "min         0.000000e+00            0.000000e+00  \n",
       "25%         1.000000e+01            4.000000e+00  \n",
       "50%         1.300000e+01            7.000000e+00  \n",
       "75%         1.600000e+01            1.500000e+01  \n",
       "max         2.300000e+01            3.000000e+01  "
      ]
     },
     "execution_count": 13,
     "metadata": {},
     "output_type": "execute_result"
    }
   ],
   "source": [
    "orders_df.describe()"
   ]
  },
  {
   "cell_type": "markdown",
   "metadata": {},
   "source": [
    "### Product - Details"
   ]
  },
  {
   "cell_type": "code",
<<<<<<< HEAD
   "execution_count": 14,
   "metadata": {},
=======
   "execution_count": 20,
   "metadata": {
    "collapsed": false
   },
   "outputs": [
    {
     "data": {
      "text/plain": [
       "order_id                       0\n",
       "user_id                        0\n",
       "eval_set                       0\n",
       "order_number                   0\n",
       "order_dow                      0\n",
       "order_hour_of_day              0\n",
       "days_since_prior_order    206209\n",
       "dtype: int64"
      ]
     },
     "execution_count": 20,
     "metadata": {},
     "output_type": "execute_result"
    }
   ],
   "source": [
    "orders_df.isnull().sum()"
   ]
  },
  {
   "cell_type": "code",
   "execution_count": 21,
   "metadata": {
    "collapsed": false
   },
   "outputs": [
    {
     "data": {
      "text/plain": [
       "prior    206209\n",
       "Name: eval_set, dtype: int64"
      ]
     },
     "execution_count": 21,
     "metadata": {},
     "output_type": "execute_result"
    }
   ],
   "source": [
    "orders_df[orders_df['days_since_prior_order'].isnull()==True]['eval_set'].value_counts()"
   ]
  },
  {
   "cell_type": "code",
   "execution_count": 22,
   "metadata": {
    "collapsed": false
   },
>>>>>>> 369478f87855bdb99bb4d050cbf46320076affa2
   "outputs": [
    {
     "data": {
      "text/html": [
       "<div>\n",
       "<table border=\"1\" class=\"dataframe\">\n",
       "  <thead>\n",
       "    <tr style=\"text-align: right;\">\n",
       "      <th></th>\n",
       "      <th>product_id</th>\n",
       "      <th>product_name</th>\n",
       "      <th>aisle_id</th>\n",
       "      <th>department_id</th>\n",
       "    </tr>\n",
       "  </thead>\n",
       "  <tbody>\n",
       "    <tr>\n",
       "      <th>0</th>\n",
       "      <td>1</td>\n",
       "      <td>Chocolate Sandwich Cookies</td>\n",
       "      <td>61</td>\n",
       "      <td>19</td>\n",
       "    </tr>\n",
       "    <tr>\n",
       "      <th>1</th>\n",
       "      <td>2</td>\n",
       "      <td>All-Seasons Salt</td>\n",
       "      <td>104</td>\n",
       "      <td>13</td>\n",
       "    </tr>\n",
       "    <tr>\n",
       "      <th>2</th>\n",
       "      <td>3</td>\n",
       "      <td>Robust Golden Unsweetened Oolong Tea</td>\n",
       "      <td>94</td>\n",
       "      <td>7</td>\n",
       "    </tr>\n",
       "    <tr>\n",
       "      <th>3</th>\n",
       "      <td>4</td>\n",
       "      <td>Smart Ones Classic Favorites Mini Rigatoni Wit...</td>\n",
       "      <td>38</td>\n",
       "      <td>1</td>\n",
       "    </tr>\n",
       "    <tr>\n",
       "      <th>4</th>\n",
       "      <td>5</td>\n",
       "      <td>Green Chile Anytime Sauce</td>\n",
       "      <td>5</td>\n",
       "      <td>13</td>\n",
       "    </tr>\n",
       "  </tbody>\n",
       "</table>\n",
       "</div>"
      ],
      "text/plain": [
       "   product_id                                       product_name  aisle_id  \\\n",
       "0           1                         Chocolate Sandwich Cookies        61   \n",
       "1           2                                   All-Seasons Salt       104   \n",
       "2           3               Robust Golden Unsweetened Oolong Tea        94   \n",
       "3           4  Smart Ones Classic Favorites Mini Rigatoni Wit...        38   \n",
       "4           5                          Green Chile Anytime Sauce         5   \n",
       "\n",
       "   department_id  \n",
       "0             19  \n",
       "1             13  \n",
       "2              7  \n",
       "3              1  \n",
       "4             13  "
      ]
     },
<<<<<<< HEAD
     "execution_count": 14,
=======
     "execution_count": 22,
>>>>>>> 369478f87855bdb99bb4d050cbf46320076affa2
     "metadata": {},
     "output_type": "execute_result"
    }
   ],
   "source": [
    "products_df.head()"
   ]
  },
  {
   "cell_type": "code",
<<<<<<< HEAD
   "execution_count": 15,
   "metadata": {},
=======
   "execution_count": 23,
   "metadata": {
    "collapsed": false
   },
>>>>>>> 369478f87855bdb99bb4d050cbf46320076affa2
   "outputs": [
    {
     "data": {
      "text/plain": [
       "(49688, 4)"
      ]
     },
<<<<<<< HEAD
     "execution_count": 15,
=======
     "execution_count": 23,
>>>>>>> 369478f87855bdb99bb4d050cbf46320076affa2
     "metadata": {},
     "output_type": "execute_result"
    }
   ],
   "source": [
    "products_df.shape"
   ]
  },
  {
   "cell_type": "markdown",
   "metadata": {},
   "source": [
    "### Products in Each Department"
   ]
  },
  {
   "cell_type": "code",
<<<<<<< HEAD
   "execution_count": 16,
   "metadata": {},
=======
   "execution_count": 24,
   "metadata": {
    "collapsed": false
   },
>>>>>>> 369478f87855bdb99bb4d050cbf46320076affa2
   "outputs": [
    {
     "data": {
      "text/plain": [
       "personal care      6563\n",
       "snacks             6264\n",
       "pantry             5371\n",
       "beverages          4365\n",
       "frozen             4007\n",
       "dairy eggs         3449\n",
       "household          3085\n",
       "canned goods       2092\n",
       "dry goods pasta    1858\n",
       "produce            1684\n",
       "bakery             1516\n",
       "deli               1322\n",
       "missing            1258\n",
       "international      1139\n",
       "breakfast          1115\n",
       "babies             1081\n",
       "alcohol            1054\n",
       "pets                972\n",
       "meat seafood        907\n",
       "other               548\n",
       "bulk                 38\n",
       "Name: department, dtype: int64"
      ]
     },
<<<<<<< HEAD
     "execution_count": 16,
=======
     "execution_count": 24,
>>>>>>> 369478f87855bdb99bb4d050cbf46320076affa2
     "metadata": {},
     "output_type": "execute_result"
    }
   ],
   "source": [
    "pd.merge(departments_df, products_df, on=\"department_id\", how=\"inner\")['department'].value_counts()"
   ]
  },
  {
   "cell_type": "markdown",
   "metadata": {},
   "source": [
    "### Sample submissions"
   ]
  },
  {
   "cell_type": "code",
<<<<<<< HEAD
   "execution_count": 17,
   "metadata": {},
=======
   "execution_count": 25,
   "metadata": {
    "collapsed": false
   },
>>>>>>> 369478f87855bdb99bb4d050cbf46320076affa2
   "outputs": [
    {
     "data": {
      "text/html": [
       "<div>\n",
       "<table border=\"1\" class=\"dataframe\">\n",
       "  <thead>\n",
       "    <tr style=\"text-align: right;\">\n",
       "      <th></th>\n",
       "      <th>order_id</th>\n",
       "      <th>products</th>\n",
       "    </tr>\n",
       "  </thead>\n",
       "  <tbody>\n",
       "    <tr>\n",
       "      <th>0</th>\n",
       "      <td>17</td>\n",
       "      <td>39276 29259</td>\n",
       "    </tr>\n",
       "    <tr>\n",
       "      <th>1</th>\n",
       "      <td>34</td>\n",
       "      <td>39276 29259</td>\n",
       "    </tr>\n",
       "    <tr>\n",
       "      <th>2</th>\n",
       "      <td>137</td>\n",
       "      <td>39276 29259</td>\n",
       "    </tr>\n",
       "    <tr>\n",
       "      <th>3</th>\n",
       "      <td>182</td>\n",
       "      <td>39276 29259</td>\n",
       "    </tr>\n",
       "    <tr>\n",
       "      <th>4</th>\n",
       "      <td>257</td>\n",
       "      <td>39276 29259</td>\n",
       "    </tr>\n",
       "  </tbody>\n",
       "</table>\n",
       "</div>"
      ],
      "text/plain": [
       "   order_id     products\n",
       "0        17  39276 29259\n",
       "1        34  39276 29259\n",
       "2       137  39276 29259\n",
       "3       182  39276 29259\n",
       "4       257  39276 29259"
      ]
     },
<<<<<<< HEAD
     "execution_count": 17,
=======
     "execution_count": 25,
>>>>>>> 369478f87855bdb99bb4d050cbf46320076affa2
     "metadata": {},
     "output_type": "execute_result"
    }
   ],
   "source": [
    "sample_submission_df.head()"
   ]
  },
  {
   "cell_type": "code",
<<<<<<< HEAD
   "execution_count": 18,
   "metadata": {},
=======
   "execution_count": 26,
   "metadata": {
    "collapsed": false
   },
>>>>>>> 369478f87855bdb99bb4d050cbf46320076affa2
   "outputs": [
    {
     "data": {
      "text/plain": [
       "(75000, 2)"
      ]
     },
<<<<<<< HEAD
     "execution_count": 18,
=======
     "execution_count": 26,
>>>>>>> 369478f87855bdb99bb4d050cbf46320076affa2
     "metadata": {},
     "output_type": "execute_result"
    }
   ],
   "source": [
    "sample_submission_df.shape"
   ]
  },
  {
   "cell_type": "code",
   "execution_count": null,
   "metadata": {
    "collapsed": true
   },
   "outputs": [],
   "source": []
  }
 ],
 "metadata": {
  "kernelspec": {
   "display_name": "Python 3",
   "language": "python",
   "name": "python3"
  },
  "language_info": {
   "codemirror_mode": {
    "name": "ipython",
    "version": 3
   },
   "file_extension": ".py",
   "mimetype": "text/x-python",
   "name": "python",
   "nbconvert_exporter": "python",
   "pygments_lexer": "ipython3",
   "version": "3.6.0"
  }
 },
 "nbformat": 4,
 "nbformat_minor": 2
}
